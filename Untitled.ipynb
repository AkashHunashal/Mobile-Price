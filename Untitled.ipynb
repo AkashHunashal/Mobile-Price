{
 "cells": [
  {
   "cell_type": "code",
   "execution_count": 1,
   "id": "5b02f542-c610-4f6a-8174-fcab6a5d1920",
   "metadata": {},
   "outputs": [],
   "source": [
    "import numpy as np\n",
    "import pandas as pd\n",
    "import matplotlib.pyplot as plt\n",
    "import seaborn as sns\n",
    "%matplotlib inline\n",
    "import warnings\n",
    "warnings.filterwarnings('ignore')\n",
    "from sklearn.preprocessing import MinMaxScaler,StandardScaler,RobustScaler"
   ]
  },
  {
   "cell_type": "code",
   "execution_count": 40,
   "id": "07c04d4b-f798-4aa5-9885-36acac24444e",
   "metadata": {},
   "outputs": [],
   "source": [
    "one_hot_categorical_columns=[]\n",
    "categorical_columns=[]\n",
    "continuous_columns=[]\n",
    "def preprocessing():\n",
    "    df=pd.read_csv('train.csv')\n",
    "    for column in df.columns[:-1]:\n",
    "        if df[column].nunique() <=2:\n",
    "            one_hot_categorical_columns.append(column)\n",
    "    for column in df.columns[:-1]:\n",
    "        if df[column].nunique()>2 and df[column].nunique()<=15 and df[column].dtype=='int64':\n",
    "            categorical_columns.append(column)\n",
    "    for column in df.columns[:-1]:\n",
    "        if df[column].dtype=='float64' or (df[column].nunique()>=15 and df[column].dtype=='int64'):\n",
    "            continuous_columns.append(column)\n",
    "    return df"
   ]
  },
  {
   "cell_type": "code",
   "execution_count": 3,
   "id": "c77990f2-77e6-4a09-a246-1edea28b88d1",
   "metadata": {},
   "outputs": [],
   "source": [
    "minmax=MinMaxScaler()\n",
    "standard=StandardScaler()\n",
    "robust=RobustScaler()\n",
    "from sklearn.model_selection import train_test_split,GridSearchCV,RandomizedSearchCV\n",
    "from sklearn.linear_model import LogisticRegression\n",
    "from sklearn.tree import DecisionTreeClassifier\n",
    "from sklearn.ensemble import AdaBoostClassifier,GradientBoostingClassifier,BaggingClassifier,RandomForestClassifier\n",
    "from sklearn.metrics import accuracy_score,auc,confusion_matrix,f1_score,classification_report\n",
    "from sklearn.feature_selection import f_regression,SelectKBest,f_classif\n",
    "best=SelectKBest(f_classif,k=14)\n",
    "def transformation(df):\n",
    "    df['clock_speed']=np.log1p(df['clock_speed'])\n",
    "    df['m_dep']=np.log1p(df['m_dep'])\n",
    "    df['px_height']=np.sqrt(df['px_height'])\n",
    "    df['fc']=np.log1p(df['fc'])\n",
    "    df['sc_w']=np.sqrt(df['sc_w'])\n",
    "    X=df.drop('price_range',axis=1)\n",
    "    y=df[['price_range']]\n",
    "    X_new=pd.DataFrame(best.fit_transform(X,y),columns=X.columns[best.get_support()])\n",
    "    X_new_scaled=pd.DataFrame(standard.fit_transform(X_new),columns=standard.get_feature_names_out())\n",
    "    X_train,X_test,y_train,y_test=train_test_split(X_new_scaled,y,stratify=y,random_state=42,test_size=0.25)\n",
    "    return X_train,X_test,y_train,y_test"
   ]
  },
  {
   "cell_type": "code",
   "execution_count": 4,
   "id": "f806ce3f-3e52-45d2-aa95-ed29a093c79c",
   "metadata": {},
   "outputs": [],
   "source": [
    "import pickle\n",
    "def model_prediction(X_test):\n",
    "    logistic_model=pickle.load(open('logistic.pkl','rb'))\n",
    "    prediction=logistic_model.predict(X_test)\n",
    "    return prediction"
   ]
  },
  {
   "cell_type": "code",
   "execution_count": 41,
   "id": "34fe18bd-30bc-49f4-965f-b9628ae5c029",
   "metadata": {},
   "outputs": [],
   "source": [
    "def trainmodel():\n",
    "    data=preprocessing()\n",
    "    X_train,X_test,y_train,y_test=transformation(data)\n",
    "    predictions=model_prediction(X_test)\n",
    "    return predictions"
   ]
  },
  {
   "cell_type": "code",
   "execution_count": 42,
   "id": "162b9e74-3e8d-4b4e-a2a8-b9593f18ebaa",
   "metadata": {},
   "outputs": [],
   "source": [
    "predictions=trainmodel()"
   ]
  },
  {
   "cell_type": "code",
   "execution_count": 7,
   "id": "c444112a-239b-4143-94cd-458ababc73a8",
   "metadata": {},
   "outputs": [],
   "source": [
    "def testmodel():\n",
    "    test_df=pd.read_csv('test.csv')\n",
    "    test_df.drop('id',axis=1,inplace=True)\n",
    "    test_df['clock_speed']=np.log1p(test_df['clock_speed'])\n",
    "    test_df['m_dep']=np.log1p(test_df['m_dep'])\n",
    "    test_df['px_height']=np.sqrt(test_df['px_height'])\n",
    "    test_df['fc']=np.log1p(test_df['fc'])\n",
    "    test_df['sc_w']=np.sqrt(test_df['sc_w'])\n",
    "    test_df=pd.DataFrame(test_df,columns=test_df.columns[best.get_support()])\n",
    "    test_df=pd.DataFrame(standard.transform(test_df),columns=standard.get_feature_names_out())    \n",
    "    predictions=list(model_prediction(test_df))\n",
    "    test_df['price_range']=predictions\n",
    "    return test_df"
   ]
  },
  {
   "cell_type": "code",
   "execution_count": 8,
   "id": "1f18274c-68b5-4a56-845f-4bdd317ff048",
   "metadata": {},
   "outputs": [],
   "source": [
    "def test(data):\n",
    "    data['clock_speed']=np.log1p(data['clock_speed'])\n",
    "    data['m_dep']=np.log1p(data['m_dep'])\n",
    "    data['px_height']=np.sqrt(data['px_height'])\n",
    "    data['fc']=np.log1p(data['fc'])\n",
    "    data['sc_w']=np.sqrt(data['sc_w'])\n",
    "    data=pd.DataFrame(data,columns=data.columns[best.get_support()])\n",
    "    data=pd.DataFrame(standard.transform(data),columns=standard.get_feature_names_out())\n",
    "    predictions=model_prediction(data)[0]\n",
    "    return predictions"
   ]
  },
  {
   "cell_type": "code",
   "execution_count": 9,
   "id": "53866f67-d812-4372-94fd-39b52029855f",
   "metadata": {},
   "outputs": [],
   "source": [
    "test_frame={'battery_power': 1918.0,\n",
    " 'blue': 0.0,\n",
    " 'clock_speed': 1.9,\n",
    " 'dual_sim': 0.0,\n",
    " 'fc': 2.0,\n",
    " 'four_g': 0.0,\n",
    " 'int_memory': 10.0,\n",
    " 'm_dep': 0.6,\n",
    " 'mobile_wt': 110.0,\n",
    " 'n_cores': 5.0,\n",
    " 'pc': 10.0,\n",
    " 'px_height': 1170.0,\n",
    " 'px_width': 1543.0,\n",
    " 'ram': 1717.0,\n",
    " 'sc_h': 7.0,\n",
    " 'sc_w': 1.0,\n",
    " 'talk_time': 16.0,\n",
    " 'three_g': 1.0,\n",
    " 'touch_screen': 1.0,\n",
    " 'wifi': 1.0,}"
   ]
  },
  {
   "cell_type": "code",
   "execution_count": 10,
   "id": "c4423230-3445-4a8c-905a-ec2f4026343e",
   "metadata": {},
   "outputs": [
    {
     "data": {
      "text/plain": [
       "2"
      ]
     },
     "execution_count": 10,
     "metadata": {},
     "output_type": "execute_result"
    }
   ],
   "source": [
    "test_df=pd.DataFrame([test_frame])\n",
    "predi=test(test_df)\n",
    "predi"
   ]
  },
  {
   "cell_type": "code",
   "execution_count": 11,
   "id": "14df29ca-31f1-473c-a7fd-d05004e4566d",
   "metadata": {},
   "outputs": [],
   "source": [
    "test=pd.read_csv('train.csv')"
   ]
  },
  {
   "cell_type": "code",
   "execution_count": 25,
   "id": "8e866dc1-6899-40e3-a12f-0cc9b17dd6e3",
   "metadata": {},
   "outputs": [
    {
     "data": {
      "text/plain": [
       "['blue', 'dual_sim', 'four_g', 'three_g', 'touch_screen', 'wifi']"
      ]
     },
     "execution_count": 25,
     "metadata": {},
     "output_type": "execute_result"
    }
   ],
   "source": [
    "one_hot_categorical_columns"
   ]
  },
  {
   "cell_type": "code",
   "execution_count": 13,
   "id": "b206707c-1dcb-48b9-906c-9413df07e720",
   "metadata": {},
   "outputs": [
    {
     "data": {
      "text/html": [
       "<div>\n",
       "<style scoped>\n",
       "    .dataframe tbody tr th:only-of-type {\n",
       "        vertical-align: middle;\n",
       "    }\n",
       "\n",
       "    .dataframe tbody tr th {\n",
       "        vertical-align: top;\n",
       "    }\n",
       "\n",
       "    .dataframe thead th {\n",
       "        text-align: right;\n",
       "    }\n",
       "</style>\n",
       "<table border=\"1\" class=\"dataframe\">\n",
       "  <thead>\n",
       "    <tr style=\"text-align: right;\">\n",
       "      <th></th>\n",
       "      <th>battery_power</th>\n",
       "      <th>four_g</th>\n",
       "      <th>int_memory</th>\n",
       "      <th>m_dep</th>\n",
       "      <th>mobile_wt</th>\n",
       "      <th>n_cores</th>\n",
       "      <th>pc</th>\n",
       "      <th>px_height</th>\n",
       "      <th>px_width</th>\n",
       "      <th>ram</th>\n",
       "      <th>sc_h</th>\n",
       "      <th>sc_w</th>\n",
       "      <th>talk_time</th>\n",
       "      <th>touch_screen</th>\n",
       "    </tr>\n",
       "  </thead>\n",
       "  <tbody>\n",
       "    <tr>\n",
       "      <th>0</th>\n",
       "      <td>842</td>\n",
       "      <td>0</td>\n",
       "      <td>7</td>\n",
       "      <td>0.6</td>\n",
       "      <td>188</td>\n",
       "      <td>2</td>\n",
       "      <td>2</td>\n",
       "      <td>20</td>\n",
       "      <td>756</td>\n",
       "      <td>2549</td>\n",
       "      <td>9</td>\n",
       "      <td>7</td>\n",
       "      <td>19</td>\n",
       "      <td>0</td>\n",
       "    </tr>\n",
       "    <tr>\n",
       "      <th>1</th>\n",
       "      <td>1021</td>\n",
       "      <td>1</td>\n",
       "      <td>53</td>\n",
       "      <td>0.7</td>\n",
       "      <td>136</td>\n",
       "      <td>3</td>\n",
       "      <td>6</td>\n",
       "      <td>905</td>\n",
       "      <td>1988</td>\n",
       "      <td>2631</td>\n",
       "      <td>17</td>\n",
       "      <td>3</td>\n",
       "      <td>7</td>\n",
       "      <td>1</td>\n",
       "    </tr>\n",
       "    <tr>\n",
       "      <th>2</th>\n",
       "      <td>563</td>\n",
       "      <td>1</td>\n",
       "      <td>41</td>\n",
       "      <td>0.9</td>\n",
       "      <td>145</td>\n",
       "      <td>5</td>\n",
       "      <td>6</td>\n",
       "      <td>1263</td>\n",
       "      <td>1716</td>\n",
       "      <td>2603</td>\n",
       "      <td>11</td>\n",
       "      <td>2</td>\n",
       "      <td>9</td>\n",
       "      <td>1</td>\n",
       "    </tr>\n",
       "    <tr>\n",
       "      <th>3</th>\n",
       "      <td>615</td>\n",
       "      <td>0</td>\n",
       "      <td>10</td>\n",
       "      <td>0.8</td>\n",
       "      <td>131</td>\n",
       "      <td>6</td>\n",
       "      <td>9</td>\n",
       "      <td>1216</td>\n",
       "      <td>1786</td>\n",
       "      <td>2769</td>\n",
       "      <td>16</td>\n",
       "      <td>8</td>\n",
       "      <td>11</td>\n",
       "      <td>0</td>\n",
       "    </tr>\n",
       "    <tr>\n",
       "      <th>4</th>\n",
       "      <td>1821</td>\n",
       "      <td>1</td>\n",
       "      <td>44</td>\n",
       "      <td>0.6</td>\n",
       "      <td>141</td>\n",
       "      <td>2</td>\n",
       "      <td>14</td>\n",
       "      <td>1208</td>\n",
       "      <td>1212</td>\n",
       "      <td>1411</td>\n",
       "      <td>8</td>\n",
       "      <td>2</td>\n",
       "      <td>15</td>\n",
       "      <td>1</td>\n",
       "    </tr>\n",
       "    <tr>\n",
       "      <th>...</th>\n",
       "      <td>...</td>\n",
       "      <td>...</td>\n",
       "      <td>...</td>\n",
       "      <td>...</td>\n",
       "      <td>...</td>\n",
       "      <td>...</td>\n",
       "      <td>...</td>\n",
       "      <td>...</td>\n",
       "      <td>...</td>\n",
       "      <td>...</td>\n",
       "      <td>...</td>\n",
       "      <td>...</td>\n",
       "      <td>...</td>\n",
       "      <td>...</td>\n",
       "    </tr>\n",
       "    <tr>\n",
       "      <th>1995</th>\n",
       "      <td>794</td>\n",
       "      <td>1</td>\n",
       "      <td>2</td>\n",
       "      <td>0.8</td>\n",
       "      <td>106</td>\n",
       "      <td>6</td>\n",
       "      <td>14</td>\n",
       "      <td>1222</td>\n",
       "      <td>1890</td>\n",
       "      <td>668</td>\n",
       "      <td>13</td>\n",
       "      <td>4</td>\n",
       "      <td>19</td>\n",
       "      <td>1</td>\n",
       "    </tr>\n",
       "    <tr>\n",
       "      <th>1996</th>\n",
       "      <td>1965</td>\n",
       "      <td>0</td>\n",
       "      <td>39</td>\n",
       "      <td>0.2</td>\n",
       "      <td>187</td>\n",
       "      <td>4</td>\n",
       "      <td>3</td>\n",
       "      <td>915</td>\n",
       "      <td>1965</td>\n",
       "      <td>2032</td>\n",
       "      <td>11</td>\n",
       "      <td>10</td>\n",
       "      <td>16</td>\n",
       "      <td>1</td>\n",
       "    </tr>\n",
       "    <tr>\n",
       "      <th>1997</th>\n",
       "      <td>1911</td>\n",
       "      <td>1</td>\n",
       "      <td>36</td>\n",
       "      <td>0.7</td>\n",
       "      <td>108</td>\n",
       "      <td>8</td>\n",
       "      <td>3</td>\n",
       "      <td>868</td>\n",
       "      <td>1632</td>\n",
       "      <td>3057</td>\n",
       "      <td>9</td>\n",
       "      <td>1</td>\n",
       "      <td>5</td>\n",
       "      <td>1</td>\n",
       "    </tr>\n",
       "    <tr>\n",
       "      <th>1998</th>\n",
       "      <td>1512</td>\n",
       "      <td>1</td>\n",
       "      <td>46</td>\n",
       "      <td>0.1</td>\n",
       "      <td>145</td>\n",
       "      <td>5</td>\n",
       "      <td>5</td>\n",
       "      <td>336</td>\n",
       "      <td>670</td>\n",
       "      <td>869</td>\n",
       "      <td>18</td>\n",
       "      <td>10</td>\n",
       "      <td>19</td>\n",
       "      <td>1</td>\n",
       "    </tr>\n",
       "    <tr>\n",
       "      <th>1999</th>\n",
       "      <td>510</td>\n",
       "      <td>1</td>\n",
       "      <td>45</td>\n",
       "      <td>0.9</td>\n",
       "      <td>168</td>\n",
       "      <td>6</td>\n",
       "      <td>16</td>\n",
       "      <td>483</td>\n",
       "      <td>754</td>\n",
       "      <td>3919</td>\n",
       "      <td>19</td>\n",
       "      <td>4</td>\n",
       "      <td>2</td>\n",
       "      <td>1</td>\n",
       "    </tr>\n",
       "  </tbody>\n",
       "</table>\n",
       "<p>2000 rows × 14 columns</p>\n",
       "</div>"
      ],
      "text/plain": [
       "      battery_power  four_g  int_memory  m_dep  mobile_wt  n_cores  pc  \\\n",
       "0               842       0           7    0.6        188        2   2   \n",
       "1              1021       1          53    0.7        136        3   6   \n",
       "2               563       1          41    0.9        145        5   6   \n",
       "3               615       0          10    0.8        131        6   9   \n",
       "4              1821       1          44    0.6        141        2  14   \n",
       "...             ...     ...         ...    ...        ...      ...  ..   \n",
       "1995            794       1           2    0.8        106        6  14   \n",
       "1996           1965       0          39    0.2        187        4   3   \n",
       "1997           1911       1          36    0.7        108        8   3   \n",
       "1998           1512       1          46    0.1        145        5   5   \n",
       "1999            510       1          45    0.9        168        6  16   \n",
       "\n",
       "      px_height  px_width   ram  sc_h  sc_w  talk_time  touch_screen  \n",
       "0            20       756  2549     9     7         19             0  \n",
       "1           905      1988  2631    17     3          7             1  \n",
       "2          1263      1716  2603    11     2          9             1  \n",
       "3          1216      1786  2769    16     8         11             0  \n",
       "4          1208      1212  1411     8     2         15             1  \n",
       "...         ...       ...   ...   ...   ...        ...           ...  \n",
       "1995       1222      1890   668    13     4         19             1  \n",
       "1996        915      1965  2032    11    10         16             1  \n",
       "1997        868      1632  3057     9     1          5             1  \n",
       "1998        336       670   869    18    10         19             1  \n",
       "1999        483       754  3919    19     4          2             1  \n",
       "\n",
       "[2000 rows x 14 columns]"
      ]
     },
     "execution_count": 13,
     "metadata": {},
     "output_type": "execute_result"
    }
   ],
   "source": [
    "test[best.get_feature_names_out()]"
   ]
  },
  {
   "cell_type": "code",
   "execution_count": 21,
   "id": "7d9bb8f4-180a-4ee7-b4de-aeaa2ac25bec",
   "metadata": {},
   "outputs": [
    {
     "data": {
      "text/plain": [
       "Index(['battery_power', 'blue', 'clock_speed', 'dual_sim', 'fc', 'four_g',\n",
       "       'int_memory', 'm_dep', 'mobile_wt', 'n_cores', 'pc', 'px_height',\n",
       "       'px_width', 'ram', 'sc_h', 'sc_w', 'talk_time', 'three_g',\n",
       "       'touch_screen', 'wifi'],\n",
       "      dtype='object')"
      ]
     },
     "execution_count": 21,
     "metadata": {},
     "output_type": "execute_result"
    }
   ],
   "source": [
    "test.columns[:-1]"
   ]
  },
  {
   "cell_type": "code",
   "execution_count": 21,
   "id": "b2fcfa4f-b833-4390-9ed8-e684bd673679",
   "metadata": {},
   "outputs": [
    {
     "data": {
      "text/plain": [
       "['battery_power', 'clock_speed', 'm_dep', 'px_height', 'px_width', 'ram']"
      ]
     },
     "execution_count": 21,
     "metadata": {},
     "output_type": "execute_result"
    }
   ],
   "source": [
    "continuous_columns"
   ]
  },
  {
   "cell_type": "code",
   "execution_count": 43,
   "id": "b86cbb43-008c-4763-86d2-f93549c8ca79",
   "metadata": {},
   "outputs": [
    {
     "data": {
      "text/plain": [
       "['battery_power',\n",
       " 'clock_speed',\n",
       " 'fc',\n",
       " 'int_memory',\n",
       " 'm_dep',\n",
       " 'mobile_wt',\n",
       " 'pc',\n",
       " 'px_height',\n",
       " 'px_width',\n",
       " 'ram',\n",
       " 'sc_h',\n",
       " 'sc_w',\n",
       " 'talk_time']"
      ]
     },
     "execution_count": 43,
     "metadata": {},
     "output_type": "execute_result"
    }
   ],
   "source": [
    "continuous_columns"
   ]
  },
  {
   "cell_type": "code",
   "execution_count": 31,
   "id": "b48abdcb-502a-4267-bac7-a96c3d12e1ea",
   "metadata": {},
   "outputs": [
    {
     "data": {
      "text/plain": [
       "['fc', 'int_memory', 'mobile_wt', 'n_cores', 'pc', 'sc_h', 'sc_w', 'talk_time']"
      ]
     },
     "execution_count": 31,
     "metadata": {},
     "output_type": "execute_result"
    }
   ],
   "source": [
    "categorical_columns"
   ]
  },
  {
   "cell_type": "code",
   "execution_count": 44,
   "id": "1c4c9cbb-407d-4ae0-8a2c-7582439e8cfb",
   "metadata": {},
   "outputs": [
    {
     "data": {
      "text/plain": [
       "['n_cores', 'sc_h']"
      ]
     },
     "execution_count": 44,
     "metadata": {},
     "output_type": "execute_result"
    }
   ],
   "source": [
    "categorical_columns"
   ]
  },
  {
   "cell_type": "code",
   "execution_count": 32,
   "id": "8ba464d1-d2c7-445a-b331-3560709a91eb",
   "metadata": {},
   "outputs": [
    {
     "data": {
      "text/plain": [
       "121"
      ]
     },
     "execution_count": 33,
     "metadata": {},
     "output_type": "execute_result"
    }
   ],
   "source": [
    "test['mobile_wt'].nunique()"
   ]
  },
  {
   "cell_type": "code",
   "execution_count": 16,
   "id": "4fcc48dc-33ab-438e-8204-76704ab45f19",
   "metadata": {},
   "outputs": [
    {
     "name": "stdout",
     "output_type": "stream",
     "text": [
      "The unique values in battery_power lies between 501 and 1998\n",
      "The unique values in clock_speed lies between 0.5 and 3.0\n",
      "The unique values in m_dep lies between 0.1 and 1.0\n",
      "The unique values in px_height lies between 0 and 1960\n",
      "The unique values in px_width lies between 500 and 1998\n",
      "The unique values in ram lies between 256 and 3998\n",
      "The unique values in mobile_wt lies between 80 and 200\n"
     ]
    }
   ],
   "source": [
    "for column in continuous_columns+['mobile_wt']:\n",
    "    print(f'The unique values in {column} lies between {test[column].min()} and {test[column].max()}')"
   ]
  },
  {
   "cell_type": "code",
   "execution_count": 19,
   "id": "4e469ead-a9c8-4b42-b84a-9a5845563cbc",
   "metadata": {},
   "outputs": [
    {
     "name": "stdout",
     "output_type": "stream",
     "text": [
      "The unique items in fc are [ 1  0  2 13  3  4  5  7 11 12 16  6 15  8  9 10 18 17 14 19]\n",
      "The unique items in int_memory are [ 7 53 41 10 44 22 24  9 33 17 52 46 13 23 49 19 39 47 38  8 57 51 21  5\n",
      " 60 61  6 11 50 34 20 27 42 40 64 14 63 43 16 48 12 55 36 30 45 29 58 25\n",
      "  3 54 15 37 31 32  4 18  2 56 26 35 59 28 62]\n",
      "The unique items in mobile_wt are [188 136 145 131 141 164 139 187 174  93 182 177 159 198 185 196 121 101\n",
      "  81 156 199 114 111 132 143  96 200  88 150 107 100 157 160 119  87 152\n",
      " 166 110 118 162 127 109 102 104 148 180 128 134 144 168 155 165  80 138\n",
      " 142  90 197 172 116  85 163 178 171 103  83 140 194 146 192 106 135 153\n",
      "  89  82 130 189 181  99 184 195 108 133 179 147 137 190 176  84  97 124\n",
      " 183 113  92  95 151 117  94 173 105 115  91 112 123 129 154 191 175  86\n",
      "  98 125 126 158 170 161 193 169 120 149 186 122 167]\n",
      "The unique items in n_cores are [2 3 5 6 1 8 4 7]\n",
      "The unique items in pc are [ 2  6  9 14  7 10  0 15  1 18 17 11 16  4 20 13  3 19  8  5 12]\n",
      "The unique items in sc_h are [ 9 17 11 16  8 13 19  5 14 18  7 10 12  6 15]\n",
      "The unique items in sc_w are [ 7  3  2  8  1 10  9  0 15 13  5 11  4 12  6 17 14 16 18]\n",
      "The unique items in talk_time are [19  7  9 11 15 10 18  5 20 12 13  2  4  3 16  6 14 17  8]\n"
     ]
    }
   ],
   "source": [
    "for column in categorical_columns:\n",
    "    print(f'The unique items in {column} are {test[column].unique()}')"
   ]
  },
  {
   "cell_type": "code",
   "execution_count": 25,
   "id": "bdd37114-f408-42cc-914f-63d6873acc70",
   "metadata": {},
   "outputs": [
    {
     "name": "stdout",
     "output_type": "stream",
     "text": [
      "The unique items in battery_power are [ 842 1021  563 ... 1139 1467  858]\n",
      "The unique items in blue are [0 1]\n",
      "The unique items in clock_speed are [2.2 0.5 2.5 1.2 1.7 0.6 2.9 2.8 2.1 1.  0.9 1.1 2.6 1.4 1.6 2.7 1.3 2.3\n",
      " 2.  1.8 3.  1.5 1.9 2.4 0.8 0.7]\n",
      "The unique items in dual_sim are [0 1]\n",
      "The unique items in fc are [ 1  0  2 13  3  4  5  7 11 12 16  6 15  8  9 10 18 17 14 19]\n",
      "The unique items in four_g are [0 1]\n",
      "The unique items in int_memory are [ 7 53 41 10 44 22 24  9 33 17 52 46 13 23 49 19 39 47 38  8 57 51 21  5\n",
      " 60 61  6 11 50 34 20 27 42 40 64 14 63 43 16 48 12 55 36 30 45 29 58 25\n",
      "  3 54 15 37 31 32  4 18  2 56 26 35 59 28 62]\n",
      "The unique items in m_dep are [0.6 0.7 0.9 0.8 0.1 0.5 1.  0.3 0.4 0.2]\n",
      "The unique items in mobile_wt are [188 136 145 131 141 164 139 187 174  93 182 177 159 198 185 196 121 101\n",
      "  81 156 199 114 111 132 143  96 200  88 150 107 100 157 160 119  87 152\n",
      " 166 110 118 162 127 109 102 104 148 180 128 134 144 168 155 165  80 138\n",
      " 142  90 197 172 116  85 163 178 171 103  83 140 194 146 192 106 135 153\n",
      "  89  82 130 189 181  99 184 195 108 133 179 147 137 190 176  84  97 124\n",
      " 183 113  92  95 151 117  94 173 105 115  91 112 123 129 154 191 175  86\n",
      "  98 125 126 158 170 161 193 169 120 149 186 122 167]\n",
      "The unique items in n_cores are [2 3 5 6 1 8 4 7]\n",
      "The unique items in pc are [ 2  6  9 14  7 10  0 15  1 18 17 11 16  4 20 13  3 19  8  5 12]\n",
      "The unique items in px_height are [  20  905 1263 ...  528  915  483]\n",
      "The unique items in px_width are [ 756 1988 1716 ...  743 1890 1632]\n",
      "The unique items in ram are [2549 2631 2603 ... 2032 3057 3919]\n",
      "The unique items in sc_h are [ 9 17 11 16  8 13 19  5 14 18  7 10 12  6 15]\n",
      "The unique items in sc_w are [ 7  3  2  8  1 10  9  0 15 13  5 11  4 12  6 17 14 16 18]\n",
      "The unique items in talk_time are [19  7  9 11 15 10 18  5 20 12 13  2  4  3 16  6 14 17  8]\n",
      "The unique items in three_g are [0 1]\n",
      "The unique items in touch_screen are [0 1]\n",
      "The unique items in wifi are [1 0]\n"
     ]
    }
   ],
   "source": [
    "for column in test.iloc[:,:-1]:\n",
    "    print(f'The unique items in {column} are {test[column].unique()}')"
   ]
  },
  {
   "cell_type": "code",
   "execution_count": 18,
   "id": "e8030afa-e8fd-4f58-bbd4-ed7c30c8498d",
   "metadata": {},
   "outputs": [
    {
     "data": {
      "text/plain": [
       "battery_power    1918.0\n",
       "blue                0.0\n",
       "clock_speed         1.9\n",
       "dual_sim            0.0\n",
       "fc                  2.0\n",
       "four_g              0.0\n",
       "int_memory         10.0\n",
       "m_dep               0.6\n",
       "mobile_wt         110.0\n",
       "n_cores             5.0\n",
       "pc                 10.0\n",
       "px_height        1170.0\n",
       "px_width         1543.0\n",
       "ram              1717.0\n",
       "sc_h                7.0\n",
       "sc_w                1.0\n",
       "talk_time          16.0\n",
       "three_g             1.0\n",
       "touch_screen        1.0\n",
       "wifi                1.0\n",
       "Name: 243, dtype: float64"
      ]
     },
     "execution_count": 18,
     "metadata": {},
     "output_type": "execute_result"
    }
   ],
   "source": [
    "test.iloc[243][:-1]"
   ]
  },
  {
   "cell_type": "code",
   "execution_count": null,
   "id": "3cf4f6c6-75b1-4e14-a7e2-d8dd0e1e2ab7",
   "metadata": {},
   "outputs": [],
   "source": []
  },
  {
   "cell_type": "code",
   "execution_count": null,
   "id": "1fac388a-e043-46eb-b9e6-6165439db460",
   "metadata": {},
   "outputs": [],
   "source": []
  },
  {
   "cell_type": "code",
   "execution_count": null,
   "id": "1c8cee60-c750-4a4f-9e97-63b098ba1aaa",
   "metadata": {},
   "outputs": [],
   "source": []
  },
  {
   "cell_type": "code",
   "execution_count": null,
   "id": "a5e3f2fe-0f9a-4273-a0ab-923043c757a0",
   "metadata": {},
   "outputs": [],
   "source": []
  },
  {
   "cell_type": "code",
   "execution_count": null,
   "id": "174010a8-b9e2-40e6-acf0-30f59b8a739e",
   "metadata": {},
   "outputs": [],
   "source": []
  },
  {
   "cell_type": "code",
   "execution_count": null,
   "id": "596477a2-30a5-44a6-bc72-05d813a3ff6e",
   "metadata": {},
   "outputs": [],
   "source": []
  },
  {
   "cell_type": "code",
   "execution_count": null,
   "id": "0d6fe573-a15d-4e7a-a397-a268657dbb93",
   "metadata": {},
   "outputs": [],
   "source": []
  },
  {
   "cell_type": "code",
   "execution_count": null,
   "id": "a0f0a73b-33ef-4cf0-9389-c69ad7527305",
   "metadata": {},
   "outputs": [],
   "source": []
  },
  {
   "cell_type": "code",
   "execution_count": null,
   "id": "f00a8335-0130-4370-8b8b-ce3d471a7803",
   "metadata": {},
   "outputs": [],
   "source": []
  }
 ],
 "metadata": {
  "kernelspec": {
   "display_name": "Python 3 (ipykernel)",
   "language": "python",
   "name": "python3"
  },
  "language_info": {
   "codemirror_mode": {
    "name": "ipython",
    "version": 3
   },
   "file_extension": ".py",
   "mimetype": "text/x-python",
   "name": "python",
   "nbconvert_exporter": "python",
   "pygments_lexer": "ipython3",
   "version": "3.10.4"
  }
 },
 "nbformat": 4,
 "nbformat_minor": 5
}
